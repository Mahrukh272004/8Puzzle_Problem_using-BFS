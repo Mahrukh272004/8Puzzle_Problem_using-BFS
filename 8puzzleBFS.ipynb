{
 "cells": [
  {
   "cell_type": "code",
   "execution_count": 1,
   "metadata": {},
   "outputs": [],
   "source": [
    "import numpy as np\n",
    "from queue import Queue"
   ]
  },
  {
   "cell_type": "code",
   "execution_count": 2,
   "metadata": {},
   "outputs": [],
   "source": [
    "def moves(start):\n",
    "    # Find the index where 0 is present in the start array\n",
    "    zero = np.where(start == 0)\n",
    "\n",
    "    # Get the number of rows and columns in the start array\n",
    "    rows, cols = start.shape\n",
    "    \n",
    "    # Initialize an empty list to store possible moves\n",
    "    moves = []\n",
    "\n",
    "    # Check if moving the zero element up is a valid move\n",
    "    if zero[0] > 0:\n",
    "        moves.append((zero[0] - 1, zero[1]))  # Append the coordinates of the position above the zero element\n",
    "    \n",
    "    # Check if moving the zero element left is a valid move\n",
    "    if zero[1] > 0:\n",
    "        moves.append((zero[0], zero[1] - 1))  # Append the coordinates of the position to the left of the zero element\n",
    "    \n",
    "    # Check if moving the zero element down is a valid move\n",
    "    if zero[0] < rows - 1:\n",
    "        moves.append((zero[0] + 1, zero[1]))  # Append the coordinates of the position below the zero element\n",
    "    \n",
    "    # Check if moving the zero element right is a valid move\n",
    "    if zero[1] < cols - 1:\n",
    "        moves.append((zero[0], zero[1] + 1))  # Append the coordinates of the position to the right of the zero element\n",
    "    \n",
    "    # Return the list of possible moves\n",
    "    return moves\n",
    "\n",
    "        "
   ]
  },
  {
   "cell_type": "code",
   "execution_count": 3,
   "metadata": {},
   "outputs": [],
   "source": [
    "def apply_move(start, moves):\n",
    "    # Make a copy of the start array to avoid modifying the original array\n",
    "    copy_state = start.copy()\n",
    "\n",
    "    # Find the index where 0 is present in the start array\n",
    "    zero = np.where(start == 0)\n",
    "\n",
    "    # Get the value of the element at the position specified by the 'moves' parameter\n",
    "    value = copy_state[moves]\n",
    "\n",
    "    # Swap the value of the element at 'moves' position with the value at the zero position\n",
    "    # This effectively moves the zero element to the 'moves' position\n",
    "    copy_state[zero], copy_state[moves] = value, 0\n",
    "\n",
    "    # Return the modified copy of the start array\n",
    "    return copy_state\n"
   ]
  },
  {
   "cell_type": "code",
   "execution_count": 5,
   "metadata": {},
   "outputs": [
    {
     "name": "stdout",
     "output_type": "stream",
     "text": [
      "[(array([1], dtype=int64), array([1], dtype=int64)), (array([0], dtype=int64), array([1], dtype=int64)), (array([0], dtype=int64), array([0], dtype=int64)), (array([1], dtype=int64), array([0], dtype=int64)), (array([1], dtype=int64), array([1], dtype=int64))]\n"
     ]
    }
   ],
   "source": [
    "def bfs(start, goal):\n",
    "    # Initialize a queue to store states to be explored\n",
    "    queue = Queue()\n",
    "\n",
    "    # Initialize a set to keep track of visited states\n",
    "    visited = set()\n",
    "\n",
    "    # Add the start state along with an empty path to the queue\n",
    "    queue.put((start, []))  # The path starts as empty\n",
    "\n",
    "    # Loop until the queue is empty\n",
    "    while not queue.empty():\n",
    "        # Get the current state and its corresponding path from the queue\n",
    "        current_state, path = queue.get()\n",
    "\n",
    "        # Check if the current state is equal to the goal state\n",
    "        if np.array_equal(current_state, goal):\n",
    "            return path  # Return the path if the goal is reached\n",
    "\n",
    "        # Add the current state to the set of visited states\n",
    "        visited.add(tuple(current_state.flatten()))\n",
    "\n",
    "        # Get possible moves from the current state\n",
    "        possible_moves = moves(current_state)\n",
    "\n",
    "        # Iterate over possible moves\n",
    "        for move in possible_moves:\n",
    "            # Apply the move to generate a new state\n",
    "            new_state = apply_move(current_state, move)\n",
    "\n",
    "            # Check if the new state has not been visited before\n",
    "            if tuple(new_state.flatten()) not in visited:\n",
    "                # Create a new path by appending the move to the current path\n",
    "                new_path = path + [move]\n",
    "\n",
    "                # Add the new state and its corresponding path to the queue\n",
    "                queue.put((new_state, new_path))\n",
    "\n",
    "                # Add the new state to the set of visited states\n",
    "                visited.add(tuple(new_state.flatten()))\n",
    "\n",
    "    # If no solution is found, return None\n",
    "    return None\n",
    "\n",
    "# Example usage:\n",
    "start = np.array([[2, 8, 3], [1, 6, 4], [7, 0, 5]])\n",
    "goal = np.array([[1, 2, 3], [8, 0, 4], [7, 6, 5]])\n",
    "\n",
    "solution = bfs(start, goal)\n",
    "print(solution)\n"
   ]
  }
 ],
 "metadata": {
  "kernelspec": {
   "display_name": "Python 3",
   "language": "python",
   "name": "python3"
  },
  "language_info": {
   "codemirror_mode": {
    "name": "ipython",
    "version": 3
   },
   "file_extension": ".py",
   "mimetype": "text/x-python",
   "name": "python",
   "nbconvert_exporter": "python",
   "pygments_lexer": "ipython3",
   "version": "3.12.0"
  }
 },
 "nbformat": 4,
 "nbformat_minor": 2
}
